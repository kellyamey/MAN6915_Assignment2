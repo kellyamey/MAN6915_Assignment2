{
 "cells": [
  {
   "cell_type": "markdown",
   "metadata": {},
   "source": [
    "# Problem 1 (5 points)\n",
    "\n",
    "Write a simple program to compute the tax on an order amount. The program should prompt for the order amount and the state. If the state is “WI,” then the order must be charged 5.5% tax. The program should display the subtotal, tax, and total for Wisconsin residents but display just the total for non-residents.\n",
    "\n",
    "## Example Output\n",
    "<pre>\n",
    "What is the order amount? 10\n",
    "What is the state? WI\n",
    "The subtotal is $10.00.\n",
    "The tax is $0.55.\n",
    "The total is $10.55.\n",
    "</pre>\n",
    "\n",
    "Or\n",
    "\n",
    "<pre>\n",
    "What is the order amount? 10\n",
    "What is the state? MN\n",
    "The total is $10.00\n",
    "</pre>\n",
    "\n",
    "## Constraints\n",
    "\n",
    "- Implement this program using only a simple if statement—don’t use an else clause.\n",
    "- Ensure that all money is rounded up to the nearest cent.\n",
    "- Use a single output statement at the end of the program to display the program results."
   ]
  },
  {
   "cell_type": "code",
   "execution_count": 1,
   "metadata": {
    "collapsed": true
   },
   "outputs": [],
   "source": [
    "def problem1():\n",
    "    pass\n",
    "\n",
    "problem1()"
   ]
  },
  {
   "cell_type": "markdown",
   "metadata": {},
   "source": [
    "# Problem 2 (4 points)\n",
    "\n",
    "Create a simple program that validates user login credentials. The program must prompt the user for a username and password. The program should compare the password given by the user to a known password. If the password matches, the program should display “Welcome!” If it doesn’t match, the program should display “I don’t know you.”\n",
    "\n",
    "## Example Output\n",
    "\n",
    "<pre>\n",
    "What is the password? 12345\n",
    "I don't know you.\n",
    "</pre>\n",
    "\n",
    "Or\n",
    "\n",
    "<pre>\n",
    "What is the password? abc$123\n",
    "Welcome!\n",
    "</pre>\n",
    "\n",
    "## Constraints\n",
    "\n",
    "- Use an if/else statement for this problem.\n",
    "- Make sure the program is case sensitive."
   ]
  },
  {
   "cell_type": "code",
   "execution_count": 3,
   "metadata": {
    "collapsed": false
   },
   "outputs": [
    {
     "name": "stdout",
     "output_type": "stream",
     "text": [
      "What is the password?Abc$123\n",
      "Welcome!\n"
     ]
    }
   ],
   "source": [
    "def problem2():\n",
    "    #Get password from user\n",
    "    pw = input(\"What is the password?\")\n",
    "    #Compare password to that listed.\n",
    "    if pw == \"Abc$123\":\n",
    "        print(\"Welcome!\")\n",
    "    #If it's not correct, print \"I don't know you.\"\n",
    "    else:\n",
    "        print(\"I don't know you.\")\n",
    "problem2()"
   ]
  },
  {
   "cell_type": "markdown",
   "metadata": {},
   "source": [
    "# Problem 3 (3 points)\n",
    "\n",
    "Write a program that asks the user for their age and compare it to the legal driving age of sixteen. If the user is sixteen or older, then the program should display “You are old enough to legally drive.” If the user is under sixteen, the program should display “You are not old enough to legally drive.”\n",
    "\n",
    "## Example Output\n",
    "\n",
    "<pre>\n",
    "What is your age? 15\n",
    "You are not old enough to legally drive.\n",
    "</pre>\n",
    "\n",
    "Or\n",
    "\n",
    "<pre>\n",
    "What is your age? 35\n",
    "You are old enough to legally drive.\n",
    "</pre>\n",
    "\n",
    "## Constraints\n",
    "\n",
    "- Use a single output statement."
   ]
  },
  {
   "cell_type": "code",
   "execution_count": 15,
   "metadata": {
    "collapsed": false
   },
   "outputs": [
    {
     "name": "stdout",
     "output_type": "stream",
     "text": [
      "What is your age? 15.5\n",
      "You are not old enough to legally drive.\n"
     ]
    }
   ],
   "source": [
    "def problem3():\n",
    "    #Get user age\n",
    "    age = float(input(\"What is your age? \"))\n",
    "    #Compare user age to to driving age of 16. Assigns empty value to driving\n",
    "    if age >= 16:\n",
    "        driving = \"\" \n",
    "    #If under 16, return \" not\"\n",
    "    else:\n",
    "        driving = \" not\"\n",
    "    #Format and put together output statement\n",
    "    output = \"You are{} old enough to legally drive.\".format(driving)\n",
    "    print(output)\n",
    "problem3()"
   ]
  },
  {
   "cell_type": "markdown",
   "metadata": {},
   "source": [
    "# Problem 4 (3 points)\n",
    "\n",
    "Create a program that prompts for your weight, gender, number of drinks, the amount of alcohol by volume of the drinks consumed, and the amount of time since your last drink. Calculate your blood alcohol content (BAC) using this formula $BAC = (A \\times 5.14 / W \\times r) - 0.015 \\times H$\n",
    "\n",
    "where\n",
    "\n",
    "- A is total alcohol consumed, in ounces (oz).\n",
    "- W is body weight in pounds.\n",
    "- r is the alcohol distribution ratio:\n",
    "  - 0.73 for men\n",
    "  - 0.66 for women\n",
    "- H is number of hours since the last drink.\n",
    "\n",
    "Display whether or not it’s legal to drive by comparing the blood alcohol content to 0.08.\n",
    "\n",
    "## Example Output\n",
    "<pre>\n",
    "Your BAC is 0.08\n",
    "It is not legal for you to drive.\n",
    "</pre>\n",
    "\n",
    "## Constraint\n",
    "\n",
    "- Prevent the user from entering non-numeric values."
   ]
  },
  {
   "cell_type": "code",
   "execution_count": 62,
   "metadata": {
    "collapsed": false
   },
   "outputs": [
    {
     "name": "stdout",
     "output_type": "stream",
     "text": [
      "How many drinks did you have? three\n",
      "Try again, enter numbers.\n"
     ]
    }
   ],
   "source": [
    "def problem4():\n",
    "    #Gather user inputs. Use \"try\" statement so that if anything entered is not a number, program fails and returns error\n",
    "    try:\n",
    "        num_drinks = float(input(\"How many drinks did you have? \"))\n",
    "        oz_per_drink = float(input(\"How many ounces of alcohol were in each drink? \"))\n",
    "        weight = float(input(\"What is your weight? (in pounds) \"))\n",
    "        gender = int(input(\"What is your gender? (0 for male, 1 for female) \"))\n",
    "        hour_drink = float(input(\"How many hours since your last drink? \"))\n",
    "    #Returns error if numbers not entered for above variables\n",
    "    except Exception as e:\n",
    "        print(\"Try again, enter numbers.\")\n",
    "    #Calculations for BAC\n",
    "    else:\n",
    "        alcohol_consumed = num_drinks * oz_per_drink\n",
    "        if gender == 0:\n",
    "            r = .73 #distribution ratio for men\n",
    "        else:\n",
    "            r = .66 #distribution ratio for women\n",
    "        BAC = ((alcohol_consumed * 5.14)/(weight * r)) - (.015 * hour_drink)\n",
    "        if BAC < .08:\n",
    "            legal = \"\"\n",
    "        else:\n",
    "            legal = \" not\"\n",
    "        #Format and put together output statement, using comparison to BAC above\n",
    "        output = \"Your BAC is {:.2f}. \\nIt is{} legal for you to drive.\".format(BAC, legal)\n",
    "        print(output)\n",
    "\n",
    "problem4()"
   ]
  },
  {
   "cell_type": "markdown",
   "metadata": {},
   "source": [
    "# Problem 5 (4 points)\n",
    "\n",
    "Create a program that converts temperatures from Fahrenheit to Celsius or from Celsius to Fahrenheit. Prompt for the starting temperature. The program should prompt for the type of conversion and then perform the conversion.\n",
    "\n",
    "The formulas are\n",
    "\n",
    "$C = (F - 32) \\times 5/9$\n",
    "\n",
    "and\n",
    "\n",
    "$F = (C \\times 9/5) + 32$\n",
    "\n",
    "## Example Output\n",
    "\n",
    "<pre>\n",
    "Press C to convert from Fahrenheit to Celsius.\n",
    "Press F to convert from Celsius to Fahrenheit.\n",
    "Your choice: C\n",
    "Please enter the temperature in Fahrenheit: 32\n",
    "The temperature in Celsius is 0.\n",
    "</pre>\n",
    "\n",
    "## Constraints\n",
    "\n",
    "- Ensure that you allow upper or lowercase values for C and F.\n",
    "- Use as few output statements as possible and avoid repeating output strings."
   ]
  },
  {
   "cell_type": "code",
   "execution_count": 5,
   "metadata": {
    "collapsed": false
   },
   "outputs": [
    {
     "name": "stdout",
     "output_type": "stream",
     "text": [
      "Press C to convert from Fahrenheit to Celsius. \n",
      "Press F to convert from Celsius to Fahrenheit.\n",
      "Your choice: g\n",
      "I said enter a C or F! Try again fool!\n"
     ]
    }
   ],
   "source": [
    "def problem5():\n",
    "    #Tell user what will be required.\n",
    "    print(\"Press C to convert from Fahrenheit to Celsius. \\nPress F to convert from Celsius to Fahrenheit.\")\n",
    "    #Get user input\n",
    "    choice = input(\"Your choice: \")\n",
    "    #Compare user input to expected inputs, c, C, f, or F. \n",
    "    if choice == 'c' or choice == 'C':\n",
    "        temp_input = float(input(\"Please enter the temperature in Fahrenheit: \"))\n",
    "        temp_convert = (temp_input - 32) * (5/9)  #conversion from Fahrenheit to Celsius\n",
    "        choice = 'Celsius' #re-write choice variable to use in output statement below\n",
    "    elif choice == 'f' or choice == 'F':\n",
    "        temp_input = float(input(\"Please enter the temperature in Celsius: \"))\n",
    "        temp_convert = (temp_input * (9/5)) + 32 #conversion from Celsius to Fahrenheit\n",
    "        choice = 'Fahrenheit' #re-write choice variable to use in output statement below\n",
    "    else:\n",
    "        print(\"I said enter a C or F! Try again fool!\")\n",
    "        return \n",
    "    output = \"The temperature in {} is {:.2f}.\".format(choice, temp_convert)\n",
    "    print(output)\n",
    "problem5()"
   ]
  },
  {
   "cell_type": "markdown",
   "metadata": {},
   "source": [
    "# Problem 6 (3 points)\n",
    "\n",
    "Create a program to calculate the body mass index (BMI) for a person using the person’s height in inches and weight in pounds. The program should prompt the user for weight and height.\n",
    "\n",
    "Calculate the BMI by using the following formula: $bmi = (weight / (height \\times height)) \\times 703$\n",
    "\n",
    "If the BMI is between 18.5 and 25, display that the person is at a normal weight. If they are out of that range, tell them if they are underweight or overweight and tell them to consult their doctor.\n",
    "\n",
    "## Example Output\n",
    "\n",
    "<pre>\n",
    "Your BMI is 19.5.\n",
    "You are within the ideal weight range.\n",
    "</pre>\n",
    "\n",
    "or\n",
    "\n",
    "<pre>\n",
    "Your BMI is 32.5.\n",
    "You are overweight. You should see your doctor.\n",
    "</pre>\n",
    "\n",
    "## Constraint\n",
    "\n",
    "- Ensure your program takes only numeric data. Don’t let the user continue unless the data is valid."
   ]
  },
  {
   "cell_type": "code",
   "execution_count": 37,
   "metadata": {
    "collapsed": false
   },
   "outputs": [
    {
     "name": "stdout",
     "output_type": "stream",
     "text": [
      "Height in inches: sixty\n",
      "Try again! Enter numeric data!\n"
     ]
    }
   ],
   "source": [
    "def problem6():\n",
    "    #Gather user inputs. Use \"try\" statement so that if anything entered is not a number, program fails and returns error\n",
    "    try:\n",
    "        height = float(input(\"Height in inches: \"))\n",
    "        weight = float(input(\"Weight in pounds: \"))\n",
    "    except Exception as e:\n",
    "        print(\"Try again! Enter numeric data!\")\n",
    "    else: \n",
    "        bmi = (weight/(height**2)) * 703 #formula for calculating bmi\n",
    "        if bmi <18.5: #if underweight\n",
    "            output = \"Your BMI is {:.1f}. \\nYou are underweight. You should see a doctor.\".format(bmi) \n",
    "        elif bmi <= 25: #if normal\n",
    "            output = \"Your BMI is {:.1f}. \\nYou are within the ideal weight range.\".format(bmi)\n",
    "        else: #if overweight\n",
    "            output = \"Your BMI is {:.1f}. \\nYou are overweight. You should see a doctor.\".format(bmi)\n",
    "        print(output)\n",
    "problem6()"
   ]
  },
  {
   "cell_type": "markdown",
   "metadata": {},
   "source": [
    "# Problem 7 (4 points)\n",
    "\n",
    "Create a tax calculator that handles multiple states and multiple counties within each state. The program prompts the user for the order amount and the state where the order will be shipped.\n",
    "\n",
    "Wisconsin residents are charged a base tax of 5%. Wisconsin residents are also charged additional tax based on their county of residence.\n",
    "- For Eau Claire county residents, add an additional 0.005 tax.\n",
    "- For Dunn county residents, add an additional 0.004 tax.\n",
    "\n",
    "Illinois residents must be charged 8% sales tax with no additional county-level charge. All other states are not charged tax. The program then displays the tax and the total for Wisconsin and Illinois residents but just the total for everyone else.\n",
    "\n",
    "## Example Output\n",
    "\n",
    "<pre>\n",
    "What is the order amount? 10\n",
    "What state do you live in? Wisconsin\n",
    "What county do you live in? Eau Claire\n",
    "The tax is $0.55.\n",
    "The total is $10.55.\n",
    "</pre>\n",
    "\n",
    "## Constraints\n",
    "\n",
    "- Ensure that all money is rounded up to the nearest cent.\n",
    "- Use a single output statement at the end of the program to display the program results."
   ]
  },
  {
   "cell_type": "code",
   "execution_count": null,
   "metadata": {
    "collapsed": true
   },
   "outputs": [],
   "source": []
  },
  {
   "cell_type": "markdown",
   "metadata": {},
   "source": [
    "# Problem 8 (3 points)\n",
    "\n",
    "Write a program that converts a number from 1 to 12 to the corresponding month. Prompt for a number and display the corresponding calendar month, with 1 being January and 12 being December. For any value outside that range, display an appropriate error message.\n",
    "\n",
    "## Example Output\n",
    "\n",
    "<pre>\n",
    "Please enter the number of the month: 3\n",
    "The name of the month is March.\n",
    "</pre>\n",
    "\n",
    "## Constraints\n",
    "\n",
    "- Use a single output statement for this program."
   ]
  },
  {
   "cell_type": "code",
   "execution_count": 6,
   "metadata": {
    "collapsed": false
   },
   "outputs": [
    {
     "name": "stdout",
     "output_type": "stream",
     "text": [
      "Please enter the number of the month: 3\n",
      "The name of the month is March.\n",
      "{1: 'January', 2: 'February', 3: 'March', 4: 'April', 5: 'May', 6: 'June', 7: 'July', 8: 'August', 9: 'September', 10: 'October', 11: 'November', 12: 'December'}\n"
     ]
    }
   ],
   "source": [
    "def problem8():\n",
    "    #create dictionary for month_number to name look-up.\n",
    "    months = {1:'January', 2:'February', 3:'March', 4:'April', 5:'May', 6:'June', 7:'July', 8:'August', 9:'September', 10:'October', 11:'November', 12:'December'}\n",
    "    #Get user input\n",
    "    month_number = float(input(\"Please enter the number of the month: \"))\n",
    "    #Compare user input to expected input\n",
    "    if month_number <1 or month_number >12:\n",
    "        print(\"Please enter a number between 1 and 12.\")\n",
    "    #output using look-up in dictionary in format statement.\n",
    "    else:\n",
    "        output = \"The name of the month is {}.\".format(months[month_number])\n",
    "        print(output)\n",
    "problem8() "
   ]
  },
  {
   "cell_type": "markdown",
   "metadata": {},
   "source": [
    "# Problem 9 (4 points)\n",
    "\n",
    "Create a program that compares two strings and determines if the two strings are anagrams. The program should prompt for both input strings and display the output as shown in the example that follows.\n",
    "\n",
    "## Example Output\n",
    "\n",
    "<pre>\n",
    "Enter two strings and I'll tell you if they are anagrams:\n",
    "Enter the first string: note\n",
    "Enter the second string: tone\n",
    "\"note\" and \"tone\" are anagrams.\n",
    "</pre>\n",
    "\n",
    "## Constraints\n",
    "\n",
    "- Implement the program using a function called `isAnagram`, which takes in two words as its arguments and returns `true` or `false`. Invoke this function from your main program.\n",
    "- Check that both words are the same length."
   ]
  },
  {
   "cell_type": "code",
   "execution_count": 3,
   "metadata": {
    "collapsed": false
   },
   "outputs": [
    {
     "name": "stdout",
     "output_type": "stream",
     "text": [
      "Enter two strings and I'll tell you if they are anagrams:\n",
      "Enter the first string: none\n",
      "Enter the second string: none\n",
      "'none' and 'none' are anagrams.\n"
     ]
    }
   ],
   "source": [
    "def problem9():\n",
    "    #define isAnagram\n",
    "    def isAnagram():\n",
    "        return sorted(str.lower(string1)) == sorted(str.lower(string2))\n",
    "    \n",
    "    #Tell user what program will do\n",
    "    print(\"Enter two strings and I'll tell you if they are anagrams:\")\n",
    "    \n",
    "    #Get user inputs\n",
    "    string1 = input(\"Enter the first string: \")\n",
    "    string2 = input(\"Enter the second string: \") \n",
    "    \n",
    "    #Check string lengths\n",
    "    if len(string1) != len(string2):\n",
    "        print(\"'{}' and '{}' are not the same lengths! They can't possibly be anagrams!\".format(string1, string2))\n",
    "    #Check isAnagram function and print result statement\n",
    "    elif isAnagram() == False:\n",
    "        print(\"'{}' and '{}' are not anagrams.\".format(string1, string2))\n",
    "    elif isAnagram() == True:\n",
    "        print(\"'{}' and '{}' are anagrams.\".format(string1, string2))\n",
    "        \n",
    "problem9()\n",
    "    "
   ]
  },
  {
   "cell_type": "markdown",
   "metadata": {},
   "source": [
    "# Problem 10 (4 points)\n",
    "\n",
    "Create a program that determines the complexity of a given password based on these rules:\n",
    "- A very weak password contains only numbers and is fewer than eight characters.\n",
    "- A weak password contains only letters and is fewer than eight characters.\n",
    "- A strong password contains letters and at least one number and is at least eight characters.\n",
    "- A very strong password contains letters, numbers, and special characters and is at least eight characters.\n",
    "\n",
    "## Example Output\n",
    "\n",
    "<pre>\n",
    "The password '12345' is a very weak password.\n",
    "The password 'abcdef' is a weak password.\n",
    "The password 'abc123xyz' is a strong password.\n",
    "The password '1337h@xor!' is a very strong password.\n",
    "</pre>\n",
    "\n",
    "## Constraints\n",
    "\n",
    "- Create a `passwordValidator` function that takes in the password as its argument and returns a value you can evaluate to determine the password strength. Do not have the function return a string — you may need to support multiple languages in the future.\n",
    "- Use a single output statement."
   ]
  },
  {
   "cell_type": "code",
   "execution_count": 42,
   "metadata": {
    "collapsed": false
   },
   "outputs": [
    {
     "name": "stdout",
     "output_type": "stream",
     "text": [
      "Password: 1337h@xor!\n",
      "False False True False\n",
      "2\n"
     ]
    }
   ],
   "source": [
    "def problem10():\n",
    "    #define passwordValidator function\n",
    "    password = input(\"Password: \")\n",
    "    def passwordValidator():\n",
    "        #Import re - Regular Expression Operations module\n",
    "        import re\n",
    "        \n",
    "        #very weak password if length is less than 8\n",
    "        very_weak_password = len(password) < 8\n",
    "        \n",
    "        #weak password if only letters appear in password\n",
    "        weak_password = re.search(r'\\d', password) is None and (re.search(r'\\W', password) is None)\n",
    "        \n",
    "        #strong_password if no special character is used and the above statements are False\n",
    "        #strong_password = (re.search(r'\\w', password) is None) and (len(password) < 8) and (re.search(r'\\d', password) is None) \n",
    "        strong_password = any(c.isdigit() for c in password)\n",
    "        \n",
    "        #ery strong password if special character is used. \n",
    "        very_strong_password = (re.search('\\W', password) is True)  \n",
    "        \n",
    "        print(very_weak_password, weak_password, strong_password, very_strong_password)\n",
    "        \n",
    "        if very_weak_password == True:\n",
    "            return 0\n",
    "        if weak_password == True:\n",
    "            return 1\n",
    "        if strong_password == True:\n",
    "            return 2\n",
    "        if very_strong_password == True:\n",
    "            return 3\n",
    "        \n",
    "    print(passwordValidator())\n",
    "    \n",
    "    \n",
    "problem10()   "
   ]
  },
  {
   "cell_type": "markdown",
   "metadata": {},
   "source": [
    "# Problem 11 (6 points)\n",
    "\n",
    "Write a program that will help you determine how many months it will take to pay off a credit card balance. The program should ask the user to enter the balance of a credit card and the APR of the card. The program should then return the number of months needed.\n",
    "\n",
    "The formula for this is\n",
    "\n",
    "$n = -\\frac{1}{30} \\times \\frac{\\log(1 + \\frac{b}{p}(1 - (1 + i)^{30}))}{\\log(1+i)}$\n",
    "\n",
    "where\n",
    "\n",
    "- `n` is the number of months.\n",
    "- `i` is the daily rate (APR divided by 365).\n",
    "- `b` is the balance.\n",
    "- `p` is the monthly payment.\n",
    "\n",
    "## Example Output\n",
    "\n",
    "<pre>\n",
    "What is your balance? 5000\n",
    "What is the APR on the card (as a percent)? 12\n",
    "What is the monthly payment you can make? 100\n",
    "\n",
    "It will take you 70 months to pay off this card.\n",
    "</pre>\n",
    "\n",
    "## Constraints\n",
    "\n",
    "- Prompt for the card’s APR. Do the division internally.\n",
    "- Prompt for the APR as a percentage, not a decimal.\n",
    "- Use a function called `calculateMonthsUntilPaidOff`, which accepts the balance, the APR, and the monthly payment as its arguments and returns the number of months. Don’t access any of these values outside the function.\n",
    "- Round fractions of a cent up to the next cent."
   ]
  },
  {
   "cell_type": "code",
   "execution_count": 82,
   "metadata": {
    "collapsed": false,
    "scrolled": true
   },
   "outputs": [
    {
     "name": "stdout",
     "output_type": "stream",
     "text": [
      "Card APR (As a percentage): 12\n",
      "What is the credit card balance? $5000\n",
      "What is the monthly payment you can make? $100\n",
      "It will take you 70 months to pay off this card.\n"
     ]
    }
   ],
   "source": [
    "def problem11():\n",
    "    #import math for ceil & log functions\n",
    "    import math\n",
    "    \n",
    "   \n",
    "    #define function to calculate the number of months it will take to pay off the credit card\n",
    "    def calculateMonthsUntilPaidOff():\n",
    "        \n",
    "        #daily rate apr as decimal over 365\n",
    "        i = (apr/100) / 365\n",
    "        \n",
    "        #formula for defining the number of months it will take to pay off card\n",
    "        n = (-1/30)*((math.log(1+(credit_card_balance/monthly_payment)*(1-((1+i)**30))))/(math.log(1+i)))\n",
    "        number_of_months = math.ceil(n)\n",
    "        return number_of_months\n",
    "        \n",
    "        \n",
    "    #Ask for inputs\n",
    "    apr = float(input(\"Card APR (As a percentage): \"))\n",
    "    credit_card_balance = float(input(\"What is the credit card balance? $\"))\n",
    "    monthly_payment = float(input(\"What is the monthly payment you can make? $\"))  \n",
    "    \n",
    "    \n",
    "    output = \"It will take you {} months to pay off this card.\".format(calculateMonthsUntilPaidOff())\n",
    "    print(output)\n",
    "\n",
    "problem11()\n"
   ]
  },
  {
   "cell_type": "markdown",
   "metadata": {},
   "source": [
    "# Problem 12 (4 points)\n",
    "\n",
    "Write a program that prompts for a first name, last name, employee ID, and ZIP code. Ensure that the input is valid according to these rules:\n",
    "\n",
    "- The first name must be filled in.\n",
    "- The last name must be filled in.\n",
    "- The first and last names must be at least two characters long.\n",
    "- An employee ID is in the format AA-1234. So, two letters, a hyphen, and four numbers.\n",
    "- The ZIP code must be a number.\n",
    "\n",
    "Display appropriate error messages on incorrect data.\n",
    "\n",
    "## Example Output\n",
    "\n",
    "<pre>\n",
    "Enter the first name: J\n",
    "Enter the last name:\n",
    "Enter the ZIP code: ABCDE\n",
    "Enter an employee ID:  A12-1234\n",
    "\"J\" is not a valid first name. It is too short.\n",
    "The last name must be filled in.\n",
    "The ZIP code must be numeric.\n",
    "A12-1234 is not a valid ID.\n",
    "</pre>\n",
    "\n",
    "Or\n",
    "\n",
    "<pre>\n",
    "Enter the first name: Jimmy\n",
    "Enter the last name: James\n",
    "Enter the ZIP code: 55555\n",
    "Enter an employee ID:  TK-421\n",
    "There were no errors found.\n",
    "</pre>\n",
    "\n",
    "## Constraints\n",
    "\n",
    "- Create a function for each type of validation you need to write. Then create a `validateInput` function that takes in all of the input data and invokes the specific validation functions.\n",
    "- Use a single output statement to display the outputs."
   ]
  },
  {
   "cell_type": "code",
   "execution_count": null,
   "metadata": {
    "collapsed": true
   },
   "outputs": [],
   "source": []
  },
  {
   "cell_type": "markdown",
   "metadata": {},
   "source": [
    "# Problem 13 (3 points)\n",
    "\n",
    "Write a program that prompts the user for five numbers and computes the total of the numbers.\n",
    "\n",
    "## Example Output\n",
    "\n",
    "<pre>\n",
    "Enter a number: 1\n",
    "Enter a number: 2\n",
    "Enter a number: 3\n",
    "Enter a number: 4\n",
    "Enter a number: 5\n",
    "The total is 15.\n",
    "</pre>\n",
    "\n",
    "## Constraints\n",
    "\n",
    "- The prompting must use repetition, such as a counted loop, not five separate prompts."
   ]
  },
  {
   "cell_type": "code",
   "execution_count": 2,
   "metadata": {
    "collapsed": false
   },
   "outputs": [
    {
     "name": "stdout",
     "output_type": "stream",
     "text": [
      "Enter a number: 2\n",
      "Enter a number: 2\n",
      "Enter a number: 3\n",
      "Enter a number: 3\n",
      "Enter a number: 4\n",
      "The total is 14.0.\n"
     ]
    }
   ],
   "source": [
    "def problem13():\n",
    "    #initialize an empty list that we'll append to later\n",
    "    listing = []\n",
    "    \n",
    "    #during for loop, ask for numbers. append numbers received by user into empty list we created \n",
    "    for n in range(5):\n",
    "        i = float(input(\"Enter a number: \"))\n",
    "        listing.append(i)\n",
    "        \n",
    "    #create total by using the sum function on the list created\n",
    "    total = sum(listing)\n",
    "    \n",
    "    #produce output\n",
    "    output = \"The total is {}.\".format(total)\n",
    "    print(output)\n",
    "problem13()"
   ]
  },
  {
   "cell_type": "markdown",
   "metadata": {},
   "source": [
    "### Problem 14 (5 points)\n",
    "\n",
    "Write a quick calculator that prompts for the rate of return on an investment and calculates how many years it will take to double your investment.\n",
    "\n",
    "The formula is $years = 72 / r$, where $r$ is the stated rate of return.\n",
    "\n",
    "## Example Output\n",
    "\n",
    "<pre>\n",
    "What is the rate of return? 0\n",
    "Sorry. That's not a valid input.\n",
    "What is the rate of return? ABC\n",
    "Sorry. That's not a valid input.\n",
    "What is the rate of return? 4\n",
    "It will take 18 years to double your initial investment.\n",
    "</pre>\n",
    "\n",
    "## Constraints\n",
    "\n",
    "- Don’t allow the user to enter 0.\n",
    "- Don’t allow non-numeric values.\n",
    "- Use a loop to trap bad input, so you can ensure that the user enters valid values."
   ]
  },
  {
   "cell_type": "code",
   "execution_count": 1,
   "metadata": {
    "collapsed": false
   },
   "outputs": [
    {
     "name": "stdout",
     "output_type": "stream",
     "text": [
      "What is the rate of return? 3\n",
      "It will take 24 years to double your initial investment.\n"
     ]
    }
   ],
   "source": [
    "def problem14():\n",
    "    #import math for ceil function later\n",
    "    import math\n",
    "    \n",
    "    #use loop to catch bad input to ensure user enters valid value. \n",
    "    while True:\n",
    "        try:\n",
    "            r = float(input(\"What is the rate of return? \"))\n",
    "        except ValueError as e:\n",
    "            print(\"Sorry. That's not a valid input.\")\n",
    "        else:\n",
    "            #return on investment is years = 72/r where 72 is constant. returns years it will take to double investment\n",
    "            years = 72/r\n",
    "            output = \"It will take {} years to double your initial investment.\".format(math.ceil(years))\n",
    "            print(output)\n",
    "            break\n",
    "            \n",
    "problem14()"
   ]
  },
  {
   "cell_type": "markdown",
   "metadata": {},
   "source": [
    "# Problem 15 (3 points)\n",
    "\n",
    "Create a program that generates multiplication tables for the numbers 0 through 12.\n",
    "\n",
    "## Example Output\n",
    "\n",
    "<pre>\n",
    "       1    2  ...   12\n",
    "  1    1    2        12\n",
    "  2    2    4        24\n",
    "  :\n",
    " 12   12   24       144\n",
    "</pre>\n",
    "\n",
    "## Constraint\n",
    "\n",
    "- Use a nested loop to complete this program."
   ]
  },
  {
   "cell_type": "code",
   "execution_count": null,
   "metadata": {
    "collapsed": true
   },
   "outputs": [],
   "source": []
  },
  {
   "cell_type": "markdown",
   "metadata": {},
   "source": [
    "# Problem 16 (5 points)\n",
    "\n",
    "When getting into a fitness program, you may want to figure out your target heart rate so you don’t overexert yourself. The Karvonen heart rate formula is one method you can use to determine your rate. Create a program that prompts for your age and your resting heart rate. Use the Karvonen formula to determine the target heart rate based on a range of intensities from 55% to 95%. Generate a table with the results as shown in the example output. The formula is\n",
    "\n",
    "$TargetHR = (((220 - age) - restingHR) \\times intensity) + restingHR$\n",
    "\n",
    "## Example Output\n",
    "\n",
    "<pre>\n",
    "Resting Pulse: 65    Age: 22\n",
    "\n",
    "Intensity    | Rate\n",
    "-------------|--------\n",
    "55%          | 138 bpm\n",
    "60%          | 145 bpm\n",
    "65%          | 151 bpm\n",
    " :              :       (extra lines omitted)\n",
    "85%          | 178 bpm\n",
    "90%          | 185 bpm\n",
    "95%          | 191 bpm\n",
    "</pre>\n",
    "\n",
    "## Constraints\n",
    "\n",
    "- Don’t hard-code the percentages. Use a loop to increment the percentages from 55 to 95.\n",
    "- Ensure that the heart rate and age are entered as numbers. Don’t allow the user to continue without entering valid inputs.\n",
    "- Display the results in a tabular format."
   ]
  },
  {
   "cell_type": "code",
   "execution_count": null,
   "metadata": {
    "collapsed": true
   },
   "outputs": [],
   "source": []
  },
  {
   "cell_type": "markdown",
   "metadata": {},
   "source": [
    "# Problem 17 (4 points)\n",
    "\n",
    "Write a Guess the Number game that has three levels of difficulty. The first level of difficulty would be a number between 1 and 10. The second difficulty set would be between 1 and 100. The third difficulty set would be between 1 and 1000.\n",
    "\n",
    "Prompt for the difficulty level, and then start the game. The computer picks a random number in that range and prompts the player to guess that number. Each time the player guesses, the computer should give the player a hint as to whether the number is too high or too low. The computer should also keep track of the number of guesses. Once the player guesses the correct number, the computer should present the number of guesses and ask if the player would like to play again.\n",
    "\n",
    "## Example Output\n",
    "\n",
    "<pre>\n",
    "Let's play Guess the Number.\n",
    "Pick a difficulty level (1, 2, or 3): 1\n",
    "I have my number. What's your guess? 1\n",
    "Too low.  Guess again: 5\n",
    "Too high. Guess again: 2\n",
    "You got it in 3 guesses!\n",
    "Play again? n\n",
    "Goodbye!\n",
    "</pre>\n",
    "\n",
    "## Constraints\n",
    "\n",
    "- Don’t allow any non-numeric data entry.\n",
    "- During the game, count non-numeric entries as wrong guesses."
   ]
  },
  {
   "cell_type": "code",
   "execution_count": null,
   "metadata": {
    "collapsed": true
   },
   "outputs": [],
   "source": []
  },
  {
   "cell_type": "markdown",
   "metadata": {},
   "source": [
    "# Problem 18 (3 points)\n",
    "\n",
    "Create a Magic 8 Ball game that prompts for a question and then displays either \"Yes,\" \"No,\" \"Maybe,\" or \"Ask again later.\"\n",
    "\n",
    "## Example Output\n",
    "\n",
    "<pre>\n",
    "What's your question?  Will I be rich and famous?\n",
    "Ask again later.\n",
    "</pre>\n",
    "\n",
    "## Constraint\n",
    "\n",
    "- The value should be chosen randomly using a pseudo random number generator. Store the possible choices in a list and select one at random."
   ]
  },
  {
   "cell_type": "code",
   "execution_count": 13,
   "metadata": {
    "collapsed": false
   },
   "outputs": [
    {
     "name": "stdout",
     "output_type": "stream",
     "text": [
      "What's your question? Will I get a different response than maybe?\n",
      "Yes.\n"
     ]
    }
   ],
   "source": [
    "def problem18():\n",
    "    \n",
    "    #Ask user for question\n",
    "    question = input(\"What's your question? \")\n",
    "    \n",
    "    #List of possible responses\n",
    "    responses = ['Yes', 'No', 'Maybe', 'Ask again later']\n",
    "    \n",
    "    #import random to be used for generation of answer\n",
    "    import random\n",
    "    \n",
    "    #generate answer by chosing response randomly (no seed for more fun!)\n",
    "    answer = \"{}.\".format(random.choice(responses))\n",
    "    \n",
    "    print(answer)\n",
    "problem18()"
   ]
  },
  {
   "cell_type": "markdown",
   "metadata": {},
   "source": [
    "# Problem 19 (3 points)\n",
    "\n",
    "Create a small program that contains a list of employee names. Print out the list of names when the program runs the first time. Prompt for an employee name and remove that specific name from the list of names. Display the remaining employees, each on its own line.\n",
    "\n",
    "## Example Output\n",
    "\n",
    "<pre>\n",
    "There are 5 employees:\n",
    "John Smith\n",
    "Jackie Jackson\n",
    "Chris Jones\n",
    "Amanda Cullen\n",
    "Jeremy Goodwin\n",
    "\n",
    "Enter an employee name to remove: Chris Jones\n",
    "\n",
    "There are 4 employees:\n",
    "John Smith\n",
    "Jackie Jackson\n",
    "Amanda Cullen\n",
    "Jeremy Goodwin\n",
    "</pre>\n",
    "\n",
    "## Constraint\n",
    "\n",
    "- Use a sequence or list to store the names."
   ]
  },
  {
   "cell_type": "code",
   "execution_count": 25,
   "metadata": {
    "collapsed": false
   },
   "outputs": [
    {
     "name": "stdout",
     "output_type": "stream",
     "text": [
      "There are 5 employees.\n",
      "John Smith\n",
      "Jackie Jackson\n",
      "Chris Jones\n",
      "Amanda Cullen\n",
      "Jeremy Goodwin\n",
      "Enter an employee name to remove: Chris Jones\n",
      "There are 4 employees.\n",
      "John Smith\n",
      "Jackie Jackson\n",
      "Amanda Cullen\n",
      "Jeremy Goodwin\n"
     ]
    }
   ],
   "source": [
    "def problem19():\n",
    "    #initial employee list\n",
    "    employeelist = ['John Smith', 'Jackie Jackson', 'Chris Jones', 'Amanda Cullen', 'Jeremy Goodwin']\n",
    "    \n",
    "    def printemployeelist():\n",
    "        #print list of employees, and length statement\n",
    "        output1 = \"There are {} employees.\".format(len(employeelist))\n",
    "        print(output1)\n",
    "        for i in employeelist:\n",
    "            print(i)\n",
    "    \n",
    "    #call defined function to print list for intial employees\n",
    "    printemployeelist()\n",
    "    \n",
    "    #Ask for employee to remove\n",
    "    toremove = input(\"Enter an employee name to remove: \")\n",
    "    \n",
    "    #remove defined employee from list \n",
    "    employeelist.remove(toremove)\n",
    "    \n",
    "    #call defined function to print list for updated employees\n",
    "    printemployeelist()\n",
    "    \n",
    "problem19()"
   ]
  },
  {
   "cell_type": "markdown",
   "metadata": {},
   "source": [
    "# Problem 20 (5 points)\n",
    "\n",
    "Create a program that picks a winner for a contest or prize drawing. Prompt for names of contestants until the user leaves the entry blank. Then randomly select a winner.\n",
    "\n",
    "## Example Output\n",
    "\n",
    "<pre>\n",
    "Enter a name: Homer\n",
    "Enter a name: Bart\n",
    "Enter a name: Maggie\n",
    "Enter a name: Lisa\n",
    "Enter a name: Moe\n",
    "Enter a name:\n",
    "The winner is... Maggie.\n",
    "</pre>\n",
    "\n",
    "## Constraints\n",
    "\n",
    "- Use a loop to capture user input into a sequence.\n",
    "- Use a random number generator to pluck a value from the sequence.\n",
    "- Don’t include a blank entry in the sequence."
   ]
  },
  {
   "cell_type": "code",
   "execution_count": 28,
   "metadata": {
    "collapsed": false
   },
   "outputs": [
    {
     "name": "stdout",
     "output_type": "stream",
     "text": [
      "Enter a name: Brie\n",
      "Enter a name: Thomas\n",
      "Enter a name: Ryan\n",
      "Enter a name: Mike\n",
      "Enter a name: Geoff\n",
      "Enter a name: Kelly\n",
      "Enter a name: Chris\n",
      "Enter a name: Natalie\n",
      "Enter a name: \n",
      "The winner is... Ryan.\n"
     ]
    }
   ],
   "source": [
    "def problem20():\n",
    "    #initialize contestantlist\n",
    "    contestantlist = []\n",
    "    \n",
    "    #Have user enter contestant names, adds to previously created list. Stops when user leaves entry blank\n",
    "    while True:\n",
    "        contestant = input(\"Enter a name: \")\n",
    "        if contestant == \"\":\n",
    "            break\n",
    "        else:\n",
    "            contestantlist.append(contestant)\n",
    "            \n",
    "    #import random to select winner from list\n",
    "    import random\n",
    "    \n",
    "    #select winner from list of contestants\n",
    "    winner = random.choice(contestantlist)\n",
    "    \n",
    "    #output statement\n",
    "    output = \"The winner is... {}.\".format(winner)\n",
    "    \n",
    "    print(output)\n",
    "    \n",
    "problem20()\n",
    "    "
   ]
  },
  {
   "cell_type": "markdown",
   "metadata": {},
   "source": [
    "# Problem 21 (6 points)\n",
    "\n",
    "Write a program that prompts for response times from a website in milliseconds. It should keep asking for values until the user enters “done.”\n",
    "\n",
    "The program should print the average time (mean), the minimum time, the maximum time, and the standard deviation.\n",
    "\n",
    "To compute the average (mean)\n",
    "- Compute the sum of all values.\n",
    "- Divide the sum by the number of values.\n",
    "\n",
    "To compute the standard deviation\n",
    "- Calculate the difference from the mean for each number and square it.\n",
    "- Compute the mean of the squared values.\n",
    "- Take the square root of the mean.\n",
    "\n",
    "## Example Output\n",
    "\n",
    "<pre>\n",
    "Enter a number: 100\n",
    "Enter a number: 200\n",
    "Enter a number: 1000\n",
    "Enter a number: 300\n",
    "Enter a number: done\n",
    "\n",
    "Numbers: 100, 200, 1000, 300\n",
    "The average is 400.\n",
    "The minimum is 100.\n",
    "The maximum is 1000.\n",
    "The standard deviation is 400.25.\n",
    "</pre>\n",
    "\n",
    "## Constraints\n",
    "\n",
    "- Use loops and sequences to perform the input and mathematical operations.\n",
    "- Be sure to exclude the “done” entry from the sequence of inputs.\n",
    "- Be sure to properly convert numeric values to strings.\n",
    "- Keep the input separate from the processing and the output."
   ]
  },
  {
   "cell_type": "code",
   "execution_count": null,
   "metadata": {
    "collapsed": true
   },
   "outputs": [],
   "source": []
  },
  {
   "cell_type": "markdown",
   "metadata": {},
   "source": [
    "# Problem 22 (4 points)\n",
    "\n",
    "Create a program that generates a secure password. Prompt the user for the minimum length, the number of special characters, and the number of numbers. Then generate a password for the user using those inputs.\n",
    "\n",
    "## Example Output\n",
    "\n",
    "<pre>\n",
    "What's the minimum length? 8\n",
    "How many special characters? 2\n",
    "How many numbers? 2\n",
    "Your password is\n",
    "aurn2$1s#\n",
    "</pre>\n",
    "\n",
    "## Constraints\n",
    "\n",
    "- Use lists to store the characters you’ll use to generate the passwords.\n",
    "- Add some randomness to the password generation."
   ]
  },
  {
   "cell_type": "code",
   "execution_count": null,
   "metadata": {
    "collapsed": true
   },
   "outputs": [],
   "source": []
  },
  {
   "cell_type": "markdown",
   "metadata": {},
   "source": [
    "# Problem 23 (5 points)\n",
    "\n",
    "Create a program that prompts for a list of numbers, separated by spaces. Have the program print out a new list containing only the even numbers.\n",
    "\n",
    "## Example Output\n",
    "\n",
    "<pre>\n",
    "Enter a list of numbers, separated by spaces:  1 2 3 4 5 6 7 8\n",
    "The even numbers are 2 4 6 8.\n",
    "</pre>\n",
    "\n",
    "## Constraints\n",
    "\n",
    "- Convert the input to an sequence. Many languages can easily convert strings to arrays with a built-in function that splits apart a string based on a specified delimiter.\n",
    "- Write your own algorithm — don’t rely on the language’s built-in filter or similar enumeration feature.\n",
    "- Use a function called `filterEvenNumbers` to encapsulate the logic for this. The function takes in the old sequence and returns the new sequence."
   ]
  },
  {
   "cell_type": "code",
   "execution_count": null,
   "metadata": {
    "collapsed": true
   },
   "outputs": [],
   "source": []
  },
  {
   "cell_type": "markdown",
   "metadata": {},
   "source": [
    "# Problem 24 (3 points)\n",
    "\n",
    "Given the following data set\n",
    "\n",
    "<pre>\n",
    "First Name    Last Name    Position             Separation date\n",
    "John          Johnson      Manager              2016-12-31\n",
    "Tou           Xiong        Software Engineer    2016-10-05\n",
    "Michaela      Michaelson   District Manager     2015-12-19\n",
    "Jake          Jacobson     Programmer\n",
    "Jacquelyn     Jackson      DBA\n",
    "Sally         Weber        Web Developer        2015-12-18\n",
    "</pre>\n",
    "\n",
    "create a program that sorts all employees by last name and prints them to the screen in a tabular format.\n",
    "\n",
    "## Example Output\n",
    "\n",
    "<pre>\n",
    "Name                | Position          | Separation Date\n",
    "--------------------|-------------------|----------------\n",
    "Jacquelyn Jackson   | DBA               |\n",
    "Jake Jacobson       | Programmer        |\n",
    "John Johnson        | Manager           | 2016-12-31\n",
    "Michaela Michaelson | District Manager  | 2015-12-19\n",
    "Sally Weber         | Web Developer     | 2015-12-18\n",
    "Tou Xiong           | Software Engineer | 2016-10-05\n",
    "</pre>\n",
    "\n",
    "## Constraint\n",
    "\n",
    "- Implement the data using a sequence of maps."
   ]
  },
  {
   "cell_type": "code",
   "execution_count": null,
   "metadata": {
    "collapsed": true
   },
   "outputs": [],
   "source": []
  },
  {
   "cell_type": "markdown",
   "metadata": {},
   "source": [
    "# Problem 25 (4 points)\n",
    "\n",
    "Given the following data set\n",
    "\n",
    "<pre>\n",
    "First Name    Last Name    Position             Separation date\n",
    "John          Johnson      Manager              2016-12-31\n",
    "Tou           Xiong        Software Engineer    2016-10-05\n",
    "Michaela      Michaelson   District Manager     2015-12-19\n",
    "Jake          Jacobson     Programmer\n",
    "Jacquelyn     Jackson      DBA\n",
    "Sally         Weber        Web Developer        2015-12-18\n",
    "</pre>\n",
    "\n",
    "create a program that lets a user locate all records that match the search string by comparing the search string to the first or last name field.\n",
    "\n",
    "## Example Output\n",
    "\n",
    "<pre>\n",
    "Enter a search string:  Jac\n",
    "\n",
    "Results:\n",
    "Name                | Position          | Separation Date\n",
    "--------------------|-------------------|----------------\n",
    "Jacquelyn Jackson   | DBA               |\n",
    "Jake Jacobson       | Programmer        |\n",
    "</pre>\n",
    "\n",
    "## Constraint\n",
    "\n",
    "- Implement the data using a sequence of maps or an associative array.\n",
    "- Make the search case insensitive."
   ]
  },
  {
   "cell_type": "code",
   "execution_count": null,
   "metadata": {
    "collapsed": true
   },
   "outputs": [],
   "source": []
  },
  {
   "cell_type": "markdown",
   "metadata": {},
   "source": [
    "# Problem 26 (3 points)\n",
    "\n",
    "Create a program that reads in the following list of names:\n",
    "\n",
    "<pre>\n",
    "Ling, Mai\n",
    "Johnson, Jim\n",
    "Zarnecki, Sabrina\n",
    "Jones, Chris\n",
    "Jones, Aaron\n",
    "Swift, Geoffrey\n",
    "Xiong, Fong\n",
    "</pre>\n",
    "\n",
    "Read this program and sort the list alphabetically. Then print the sorted list to a file that looks like the following example output.\n",
    "\n",
    "## Example Output\n",
    "\n",
    "<pre>\n",
    "Total of 7 names\n",
    "-----------------\n",
    "Ling, Mai\n",
    "Johnson, Jim\n",
    "Jones, Aaron\n",
    "Jones, Chris\n",
    "Swift, Geoffrey\n",
    "Xiong, Fong\n",
    "Zarnecki, Sabrina\n",
    "</pre>\n",
    "\n",
    "## Constraint\n",
    "\n",
    "- Don’t hard-code the number of names."
   ]
  },
  {
   "cell_type": "code",
   "execution_count": null,
   "metadata": {
    "collapsed": true
   },
   "outputs": [],
   "source": []
  },
  {
   "cell_type": "markdown",
   "metadata": {},
   "source": [
    "# Problem 27 (5 points)\n",
    "\n",
    "Construct a program that reads in the following data file:\n",
    "\n",
    "<pre>\n",
    "Ling,Mai,55900\n",
    "Johnson,Jim,56500\n",
    "Jones,Aaron,46000\n",
    "Jones,Chris,34500\n",
    "Swift,Geoffrey,14200\n",
    "Xiong,Fong,65000\n",
    "Zarnecki,Sabrina,51500\n",
    "</pre>\n",
    "\n",
    "Process the records and display the results formatted as a table, evenly spaced, as shown in the example output.\n",
    "\n",
    "## Example Output\n",
    "\n",
    "<pre>\n",
    "Last     First     Salary\n",
    "-------------------------\n",
    "Ling     Mai       55900\n",
    "Johnson  Jim       56500\n",
    "Jones    Aaron     46000\n",
    "Jones    Chris     34500\n",
    "Swift    Geoffrey  14200\n",
    "Xiong    Fong      65000\n",
    "Zarnecki Sabrina   51500\n",
    "</pre>\n",
    "\n",
    "## Constraints\n",
    "\n",
    "- Write your own code to parse the data. Don’t use a CSV parser.\n",
    "- Make each column one space longer than the longest value in the column.\n",
    "- Format the salary as currency with dollar signs and commas."
   ]
  },
  {
   "cell_type": "code",
   "execution_count": null,
   "metadata": {
    "collapsed": true
   },
   "outputs": [],
   "source": []
  },
  {
   "cell_type": "markdown",
   "metadata": {},
   "source": [
    "# Problem 28 (4 points)\n",
    "\n",
    "Create a program that takes a product name as input and retrieves the current price and quantity for that product. The product data is in a data file in the JSON format and looks like this:\n",
    "\n",
    "<pre>\n",
    "{\n",
    "  \"products\" : [\n",
    "    {\"name\": \"Widget\", \"price\": 25.00, \"quantity\": 5 },\n",
    "    {\"name\": \"Thing\", \"price\": 15.00, \"quantity\": 5 },\n",
    "    {\"name\": \"Doodad\", \"price\": 5.00, \"quantity\": 10 }\n",
    "  ]\n",
    "}\n",
    "</pre>\n",
    "\n",
    "Print out the product name, price, and quantity if the product is found. If no product matches the search, state that no product was found and start over.\n",
    "\n",
    "Python has a module for working with JSON as part of its standard library: https://docs.python.org/3/library/json.html\n",
    "\n",
    "## Example Output\n",
    "\n",
    "<pre>\n",
    "What is the product name? iPad\n",
    "Sorry, that product was not found in our inventory.\n",
    "What is the product name? Widget\n",
    "Name: Widget\n",
    "Price: $25.00\n",
    "Quantity on hand: 5\n",
    "</pre>\n",
    "\n",
    "## Constraints\n",
    "\n",
    "- The file is in the JSON format. Use a JSON parser to pull the values out of the file.\n",
    "- If no record is found, prompt again."
   ]
  },
  {
   "cell_type": "code",
   "execution_count": null,
   "metadata": {
    "collapsed": true
   },
   "outputs": [],
   "source": []
  },
  {
   "cell_type": "markdown",
   "metadata": {},
   "source": [
    "# Problem 29 (4 points)\n",
    "\n",
    "Given an input file, read the file and look for all occurrences of the word utilize. Replace each occurrence with use. Write the modified file to a new file.\n",
    "\n",
    "## Example Output\n",
    "\n",
    "Given the input file of\n",
    "\n",
    "> One should never utilize the word \"utilize\" in writing. Use \"use\" instead.\n",
    "\n",
    "The program should generate an output file containing\n",
    "\n",
    "> One should never use the word \"use\" in writing. Use \"use\" instead.\n",
    "\n",
    "## Constraints\n",
    "\n",
    "- Prompt for the name of the output file.\n",
    "- Write the output to a new file."
   ]
  },
  {
   "cell_type": "code",
   "execution_count": null,
   "metadata": {
    "collapsed": true
   },
   "outputs": [],
   "source": []
  },
  {
   "cell_type": "markdown",
   "metadata": {},
   "source": [
    "# Problem 30 (3 points)\n",
    "\n",
    "Create a program that reads in a file and counts the frequency of words in the file. Then construct a histogram displaying the words and the frequency, and display the histogram to the screen.\n",
    "\n",
    "## Example Output\n",
    "\n",
    "Given the text file words.txt with this content\n",
    "\n",
    "> badger badger badger badger mushroom mushroom snake badger badger badger\n",
    "\n",
    "the program would produce the following output:\n",
    "\n",
    "<pre>\n",
    "badger:   *******\n",
    "mushroom: **\n",
    "snake:    *\n",
    "</pre>\n",
    "\n",
    "## Constraint\n",
    "\n",
    "- Ensure that the most used word is at the top of the report and the least used words are at the bottom."
   ]
  },
  {
   "cell_type": "code",
   "execution_count": null,
   "metadata": {
    "collapsed": true
   },
   "outputs": [],
   "source": []
  }
 ],
 "metadata": {
  "anaconda-cloud": {},
  "kernelspec": {
   "display_name": "Python [conda root]",
   "language": "python",
   "name": "conda-root-py"
  },
  "language_info": {
   "codemirror_mode": {
    "name": "ipython",
    "version": 3
   },
   "file_extension": ".py",
   "mimetype": "text/x-python",
   "name": "python",
   "nbconvert_exporter": "python",
   "pygments_lexer": "ipython3",
   "version": "3.5.2"
  }
 },
 "nbformat": 4,
 "nbformat_minor": 1
}
